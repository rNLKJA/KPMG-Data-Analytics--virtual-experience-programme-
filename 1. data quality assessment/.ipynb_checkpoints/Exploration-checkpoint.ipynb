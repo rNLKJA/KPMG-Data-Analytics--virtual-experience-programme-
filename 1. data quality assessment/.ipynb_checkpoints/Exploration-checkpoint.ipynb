{
 "cells": [
  {
   "cell_type": "code",
   "execution_count": 1,
   "id": "3668a52d-5106-46ce-8e4c-2a8f6352555c",
   "metadata": {
    "execution": {
     "iopub.execute_input": "2022-10-24T08:37:43.268222Z",
     "iopub.status.busy": "2022-10-24T08:37:43.267824Z",
     "iopub.status.idle": "2022-10-24T08:37:57.900236Z",
     "shell.execute_reply": "2022-10-24T08:37:57.898825Z",
     "shell.execute_reply.started": "2022-10-24T08:37:43.268144Z"
    }
   },
   "outputs": [],
   "source": [
    "# import required libraries\n",
    "import pandas as pd\n",
    "import numpy as np"
   ]
  },
  {
   "cell_type": "code",
   "execution_count": 10,
   "id": "ad80424f-4ee9-4440-bfc3-c2700a01fba3",
   "metadata": {
    "execution": {
     "iopub.execute_input": "2022-10-24T08:44:20.740574Z",
     "iopub.status.busy": "2022-10-24T08:44:20.740260Z",
     "iopub.status.idle": "2022-10-24T08:44:28.497406Z",
     "shell.execute_reply": "2022-10-24T08:44:28.496665Z",
     "shell.execute_reply.started": "2022-10-24T08:44:20.740546Z"
    },
    "tags": []
   },
   "outputs": [
    {
     "name": "stderr",
     "output_type": "stream",
     "text": [
      "/var/folders/zq/9h3tvlbn68nd_zjmj39zc0xc0000gn/T/ipykernel_54853/1974630641.py:5: FutureWarning: Inferring datetime64[ns] from data containing strings is deprecated and will be removed in a future version. To retain the old behavior explicitly pass Series(data, dtype=datetime64[ns])\n",
      "  new_customer_list_df = pd.read_excel(dataset_url, sheet_name=\"NewCustomerList\", skiprows=1)\n",
      "/var/folders/zq/9h3tvlbn68nd_zjmj39zc0xc0000gn/T/ipykernel_54853/1974630641.py:6: FutureWarning: Inferring datetime64[ns] from data containing strings is deprecated and will be removed in a future version. To retain the old behavior explicitly pass Series(data, dtype=datetime64[ns])\n",
      "  customer_demographic = pd.read_excel(dataset_url, sheet_name=\"CustomerDemographic\", skiprows=1)\n"
     ]
    }
   ],
   "source": [
    "# read dataset\n",
    "dataset_url = \"https://cdn-assets.theforage.com/vinternship_modules/kpmg_data_analytics/KPMG_VI_New_raw_data_update_final.xlsx\"\n",
    "\n",
    "transaction_df = pd.read_excel(dataset_url, sheet_name=\"Transactions\", skiprows=1)\n",
    "new_customer_list_df = pd.read_excel(dataset_url, sheet_name=\"NewCustomerList\", skiprows=1)\n",
    "customer_demographic = pd.read_excel(dataset_url, sheet_name=\"CustomerDemographic\", skiprows=1)\n",
    "customer_address = pd.read_excel(dataset_url, sheet_name=\"CustomerAddress\", skiprows=1)"
   ]
  },
  {
   "cell_type": "markdown",
   "id": "92c07c56-5130-4e27-a1df-c1b0e4fc1e94",
   "metadata": {},
   "source": [
    "## Transaction worksheet"
   ]
  },
  {
   "cell_type": "code",
   "execution_count": 11,
   "id": "7d1adbc2-8215-4b35-81ce-6147f70c9390",
   "metadata": {
    "execution": {
     "iopub.execute_input": "2022-10-24T08:44:31.029593Z",
     "iopub.status.busy": "2022-10-24T08:44:31.029279Z",
     "iopub.status.idle": "2022-10-24T08:44:31.050849Z",
     "shell.execute_reply": "2022-10-24T08:44:31.050104Z",
     "shell.execute_reply.started": "2022-10-24T08:44:31.029567Z"
    },
    "tags": []
   },
   "outputs": [
    {
     "data": {
      "text/html": [
       "<div>\n",
       "<style scoped>\n",
       "    .dataframe tbody tr th:only-of-type {\n",
       "        vertical-align: middle;\n",
       "    }\n",
       "\n",
       "    .dataframe tbody tr th {\n",
       "        vertical-align: top;\n",
       "    }\n",
       "\n",
       "    .dataframe thead th {\n",
       "        text-align: right;\n",
       "    }\n",
       "</style>\n",
       "<table border=\"1\" class=\"dataframe\">\n",
       "  <thead>\n",
       "    <tr style=\"text-align: right;\">\n",
       "      <th></th>\n",
       "      <th>transaction_id</th>\n",
       "      <th>product_id</th>\n",
       "      <th>customer_id</th>\n",
       "      <th>transaction_date</th>\n",
       "      <th>online_order</th>\n",
       "      <th>order_status</th>\n",
       "      <th>brand</th>\n",
       "      <th>product_line</th>\n",
       "      <th>product_class</th>\n",
       "      <th>product_size</th>\n",
       "      <th>list_price</th>\n",
       "      <th>standard_cost</th>\n",
       "      <th>product_first_sold_date</th>\n",
       "    </tr>\n",
       "  </thead>\n",
       "  <tbody>\n",
       "    <tr>\n",
       "      <th>19995</th>\n",
       "      <td>19996</td>\n",
       "      <td>51</td>\n",
       "      <td>1018</td>\n",
       "      <td>2017-06-24</td>\n",
       "      <td>1.0</td>\n",
       "      <td>Approved</td>\n",
       "      <td>OHM Cycles</td>\n",
       "      <td>Standard</td>\n",
       "      <td>high</td>\n",
       "      <td>medium</td>\n",
       "      <td>2005.66</td>\n",
       "      <td>1203.40</td>\n",
       "      <td>37823.0</td>\n",
       "    </tr>\n",
       "    <tr>\n",
       "      <th>19996</th>\n",
       "      <td>19997</td>\n",
       "      <td>41</td>\n",
       "      <td>127</td>\n",
       "      <td>2017-11-09</td>\n",
       "      <td>1.0</td>\n",
       "      <td>Approved</td>\n",
       "      <td>Solex</td>\n",
       "      <td>Road</td>\n",
       "      <td>medium</td>\n",
       "      <td>medium</td>\n",
       "      <td>416.98</td>\n",
       "      <td>312.74</td>\n",
       "      <td>35560.0</td>\n",
       "    </tr>\n",
       "    <tr>\n",
       "      <th>19997</th>\n",
       "      <td>19998</td>\n",
       "      <td>87</td>\n",
       "      <td>2284</td>\n",
       "      <td>2017-04-14</td>\n",
       "      <td>1.0</td>\n",
       "      <td>Approved</td>\n",
       "      <td>OHM Cycles</td>\n",
       "      <td>Standard</td>\n",
       "      <td>medium</td>\n",
       "      <td>medium</td>\n",
       "      <td>1636.90</td>\n",
       "      <td>44.71</td>\n",
       "      <td>40410.0</td>\n",
       "    </tr>\n",
       "    <tr>\n",
       "      <th>19998</th>\n",
       "      <td>19999</td>\n",
       "      <td>6</td>\n",
       "      <td>2764</td>\n",
       "      <td>2017-07-03</td>\n",
       "      <td>0.0</td>\n",
       "      <td>Approved</td>\n",
       "      <td>OHM Cycles</td>\n",
       "      <td>Standard</td>\n",
       "      <td>high</td>\n",
       "      <td>medium</td>\n",
       "      <td>227.88</td>\n",
       "      <td>136.73</td>\n",
       "      <td>38216.0</td>\n",
       "    </tr>\n",
       "    <tr>\n",
       "      <th>19999</th>\n",
       "      <td>20000</td>\n",
       "      <td>11</td>\n",
       "      <td>1144</td>\n",
       "      <td>2017-09-22</td>\n",
       "      <td>1.0</td>\n",
       "      <td>Approved</td>\n",
       "      <td>Trek Bicycles</td>\n",
       "      <td>Standard</td>\n",
       "      <td>medium</td>\n",
       "      <td>small</td>\n",
       "      <td>1775.81</td>\n",
       "      <td>1580.47</td>\n",
       "      <td>36334.0</td>\n",
       "    </tr>\n",
       "  </tbody>\n",
       "</table>\n",
       "</div>"
      ],
      "text/plain": [
       "       transaction_id  product_id  customer_id transaction_date  online_order  \\\n",
       "19995           19996          51         1018       2017-06-24           1.0   \n",
       "19996           19997          41          127       2017-11-09           1.0   \n",
       "19997           19998          87         2284       2017-04-14           1.0   \n",
       "19998           19999           6         2764       2017-07-03           0.0   \n",
       "19999           20000          11         1144       2017-09-22           1.0   \n",
       "\n",
       "      order_status          brand product_line product_class product_size  \\\n",
       "19995     Approved     OHM Cycles     Standard          high       medium   \n",
       "19996     Approved          Solex         Road        medium       medium   \n",
       "19997     Approved     OHM Cycles     Standard        medium       medium   \n",
       "19998     Approved     OHM Cycles     Standard          high       medium   \n",
       "19999     Approved  Trek Bicycles     Standard        medium        small   \n",
       "\n",
       "       list_price  standard_cost  product_first_sold_date  \n",
       "19995     2005.66        1203.40                  37823.0  \n",
       "19996      416.98         312.74                  35560.0  \n",
       "19997     1636.90          44.71                  40410.0  \n",
       "19998      227.88         136.73                  38216.0  \n",
       "19999     1775.81        1580.47                  36334.0  "
      ]
     },
     "execution_count": 11,
     "metadata": {},
     "output_type": "execute_result"
    }
   ],
   "source": [
    "transaction_df.tail()"
   ]
  },
  {
   "cell_type": "code",
   "execution_count": 15,
   "id": "1161d40e-b1d7-4b3a-845b-2491d2c8289f",
   "metadata": {
    "execution": {
     "iopub.execute_input": "2022-10-24T08:46:27.686706Z",
     "iopub.status.busy": "2022-10-24T08:46:27.686278Z",
     "iopub.status.idle": "2022-10-24T08:46:27.693548Z",
     "shell.execute_reply": "2022-10-24T08:46:27.692754Z",
     "shell.execute_reply.started": "2022-10-24T08:46:27.686675Z"
    }
   },
   "outputs": [
    {
     "data": {
      "text/plain": [
       "(20000, 13)"
      ]
     },
     "execution_count": 15,
     "metadata": {},
     "output_type": "execute_result"
    }
   ],
   "source": [
    "transaction_df.shape"
   ]
  },
  {
   "cell_type": "code",
   "execution_count": 16,
   "id": "f9928734-afa2-4e2a-a698-40efbd1e58ad",
   "metadata": {
    "execution": {
     "iopub.execute_input": "2022-10-24T08:46:34.244658Z",
     "iopub.status.busy": "2022-10-24T08:46:34.244365Z",
     "iopub.status.idle": "2022-10-24T08:46:34.252969Z",
     "shell.execute_reply": "2022-10-24T08:46:34.250986Z",
     "shell.execute_reply.started": "2022-10-24T08:46:34.244628Z"
    }
   },
   "outputs": [
    {
     "data": {
      "text/plain": [
       "transaction_id                      int64\n",
       "product_id                          int64\n",
       "customer_id                         int64\n",
       "transaction_date           datetime64[ns]\n",
       "online_order                      float64\n",
       "order_status                       object\n",
       "brand                              object\n",
       "product_line                       object\n",
       "product_class                      object\n",
       "product_size                       object\n",
       "list_price                        float64\n",
       "standard_cost                     float64\n",
       "product_first_sold_date           float64\n",
       "dtype: object"
      ]
     },
     "execution_count": 16,
     "metadata": {},
     "output_type": "execute_result"
    }
   ],
   "source": [
    "transaction_df.dtypes"
   ]
  },
  {
   "cell_type": "code",
   "execution_count": 17,
   "id": "ea09cdb7-e312-4c3f-8e4c-05953f7d58cb",
   "metadata": {
    "execution": {
     "iopub.execute_input": "2022-10-24T08:47:55.671816Z",
     "iopub.status.busy": "2022-10-24T08:47:55.671522Z",
     "iopub.status.idle": "2022-10-24T08:47:55.683279Z",
     "shell.execute_reply": "2022-10-24T08:47:55.682449Z",
     "shell.execute_reply.started": "2022-10-24T08:47:55.671784Z"
    }
   },
   "outputs": [
    {
     "data": {
      "text/plain": [
       "count    20000.000000\n",
       "mean     10000.500000\n",
       "std       5773.647028\n",
       "min          1.000000\n",
       "25%       5000.750000\n",
       "50%      10000.500000\n",
       "75%      15000.250000\n",
       "max      20000.000000\n",
       "Name: transaction_id, dtype: float64"
      ]
     },
     "execution_count": 17,
     "metadata": {},
     "output_type": "execute_result"
    }
   ],
   "source": [
    "transaction_df.transaction_id.describe()"
   ]
  },
  {
   "cell_type": "code",
   "execution_count": 18,
   "id": "b58cb4df-9460-4e98-8b3c-ecb512d0dd43",
   "metadata": {
    "execution": {
     "iopub.execute_input": "2022-10-24T09:45:44.288747Z",
     "iopub.status.busy": "2022-10-24T09:45:44.288456Z",
     "iopub.status.idle": "2022-10-24T09:45:44.299437Z",
     "shell.execute_reply": "2022-10-24T09:45:44.298464Z",
     "shell.execute_reply.started": "2022-10-24T09:45:44.288717Z"
    }
   },
   "outputs": [
    {
     "data": {
      "text/plain": [
       "count    20000.00000\n",
       "mean        45.36465\n",
       "std         30.75359\n",
       "min          0.00000\n",
       "25%         18.00000\n",
       "50%         44.00000\n",
       "75%         72.00000\n",
       "max        100.00000\n",
       "Name: product_id, dtype: float64"
      ]
     },
     "execution_count": 18,
     "metadata": {},
     "output_type": "execute_result"
    }
   ],
   "source": [
    "transaction_df.product_id.describe()"
   ]
  },
  {
   "cell_type": "code",
   "execution_count": 19,
   "id": "1f439b5d-f40f-41ea-88f4-03b4c5dc4df4",
   "metadata": {
    "execution": {
     "iopub.execute_input": "2022-10-24T09:46:07.038302Z",
     "iopub.status.busy": "2022-10-24T09:46:07.037479Z",
     "iopub.status.idle": "2022-10-24T09:46:07.044355Z",
     "shell.execute_reply": "2022-10-24T09:46:07.043417Z",
     "shell.execute_reply.started": "2022-10-24T09:46:07.038269Z"
    }
   },
   "outputs": [
    {
     "data": {
      "text/plain": [
       "0"
      ]
     },
     "execution_count": 19,
     "metadata": {},
     "output_type": "execute_result"
    }
   ],
   "source": [
    "transaction_df.product_id.min()"
   ]
  },
  {
   "cell_type": "code",
   "execution_count": 20,
   "id": "a64c5df9-07f1-4d06-9915-6b62d3e0e5de",
   "metadata": {
    "execution": {
     "iopub.execute_input": "2022-10-24T09:47:34.949358Z",
     "iopub.status.busy": "2022-10-24T09:47:34.949001Z",
     "iopub.status.idle": "2022-10-24T09:47:34.959436Z",
     "shell.execute_reply": "2022-10-24T09:47:34.958397Z",
     "shell.execute_reply.started": "2022-10-24T09:47:34.949325Z"
    }
   },
   "outputs": [
    {
     "data": {
      "text/plain": [
       "count    20000.000000\n",
       "mean      1738.246050\n",
       "std       1011.951046\n",
       "min          1.000000\n",
       "25%        857.750000\n",
       "50%       1736.000000\n",
       "75%       2613.000000\n",
       "max       5034.000000\n",
       "Name: customer_id, dtype: float64"
      ]
     },
     "execution_count": 20,
     "metadata": {},
     "output_type": "execute_result"
    }
   ],
   "source": [
    "transaction_df.customer_id.describe()"
   ]
  },
  {
   "cell_type": "code",
   "execution_count": 26,
   "id": "bae9d565-d38b-4816-aac6-a9f85b01a986",
   "metadata": {
    "execution": {
     "iopub.execute_input": "2022-10-24T09:50:34.595556Z",
     "iopub.status.busy": "2022-10-24T09:50:34.595277Z",
     "iopub.status.idle": "2022-10-24T09:50:34.615662Z",
     "shell.execute_reply": "2022-10-24T09:50:34.614557Z",
     "shell.execute_reply.started": "2022-10-24T09:50:34.595512Z"
    },
    "tags": []
   },
   "outputs": [
    {
     "data": {
      "text/plain": [
       "brand           product_line  product_class  product_size\n",
       "Solex           Standard      medium         medium          2022\n",
       "WeareA2B        Standard      medium         medium          1949\n",
       "OHM Cycles      Standard      medium         medium          1079\n",
       "Giant Bicycles  Standard      medium         medium           803\n",
       "                                             large            770\n",
       "Trek Bicycles   Standard      medium         large            673\n",
       "Norco Bicycles  Standard      medium         medium           599\n",
       "Giant Bicycles  Standard      high           medium           590\n",
       "OHM Cycles      Standard      high           medium           576\n",
       "Norco Bicycles  Road          medium         medium           513\n",
       "Solex           Standard      medium         large            510\n",
       "Norco Bicycles  Standard      low            medium           432\n",
       "WeareA2B        Touring       medium         large            430\n",
       "Solex           Standard      low            medium           410\n",
       "WeareA2B        Standard      medium         small            397\n",
       "Trek Bicycles   Road          medium         medium           397\n",
       "OHM Cycles      Road          medium         medium           384\n",
       "Giant Bicycles  Road          medium         medium           383\n",
       "Norco Bicycles  Standard      medium         small            381\n",
       "OHM Cycles      Standard      low            medium           380\n",
       "Trek Bicycles   Standard      medium         small            378\n",
       "Solex           Standard      high           medium           376\n",
       "Trek Bicycles   Standard      high           medium           325\n",
       "OHM Cycles      Touring       low            medium           229\n",
       "Trek Bicycles   Road          medium         large            228\n",
       "                Mountain      low            medium           223\n",
       "Norco Bicycles  Road          medium         large            219\n",
       "Solex           Touring       medium         large            208\n",
       "Trek Bicycles   Standard      medium         medium           203\n",
       "                Road          low            medium           201\n",
       "OHM Cycles      Road          medium         small            200\n",
       "Norco Bicycles  Mountain      low            small            200\n",
       "Giant Bicycles  Road          low            small            196\n",
       "                Standard      medium         small            196\n",
       "OHM Cycles      Road          high           large            195\n",
       "Giant Bicycles  Standard      high           small            195\n",
       "Trek Bicycles   Standard      low            medium           193\n",
       "Norco Bicycles  Standard      high           medium           192\n",
       "                Road          high           large            191\n",
       "Solex           Standard      high           large            190\n",
       "WeareA2B        Touring       medium         medium           188\n",
       "Solex           Road          medium         small            185\n",
       "Norco Bicycles  Standard      high           small            183\n",
       "Solex           Road          medium         large            183\n",
       "Giant Bicycles  Touring       medium         large            179\n",
       "WeareA2B        Standard      low            medium           174\n",
       "Trek Bicycles   Road          low            small            169\n",
       "Solex           Road          medium         medium           169\n",
       "WeareA2B        Road          low            small            157\n",
       "dtype: int64"
      ]
     },
     "execution_count": 26,
     "metadata": {},
     "output_type": "execute_result"
    }
   ],
   "source": [
    "transaction_df[[\"brand\", \"product_line\", \"product_class\", \"product_size\"]].value_counts()"
   ]
  },
  {
   "cell_type": "code",
   "execution_count": 27,
   "id": "c53059b6-cefa-49a4-aa61-b194dacd318d",
   "metadata": {
    "execution": {
     "iopub.execute_input": "2022-10-24T09:51:00.845392Z",
     "iopub.status.busy": "2022-10-24T09:51:00.845090Z",
     "iopub.status.idle": "2022-10-24T09:51:00.856138Z",
     "shell.execute_reply": "2022-10-24T09:51:00.855388Z",
     "shell.execute_reply.started": "2022-10-24T09:51:00.845362Z"
    }
   },
   "outputs": [
    {
     "data": {
      "text/plain": [
       "count    20000.000000\n",
       "mean      1107.829449\n",
       "std        582.825242\n",
       "min         12.010000\n",
       "25%        575.270000\n",
       "50%       1163.890000\n",
       "75%       1635.300000\n",
       "max       2091.470000\n",
       "Name: list_price, dtype: float64"
      ]
     },
     "execution_count": 27,
     "metadata": {},
     "output_type": "execute_result"
    }
   ],
   "source": [
    "transaction_df.list_price.describe()"
   ]
  },
  {
   "cell_type": "code",
   "execution_count": 22,
   "id": "63228cc4-6ecd-4b4f-9dcc-2c5195b7ba93",
   "metadata": {
    "execution": {
     "iopub.execute_input": "2022-10-24T09:48:51.360878Z",
     "iopub.status.busy": "2022-10-24T09:48:51.360470Z",
     "iopub.status.idle": "2022-10-24T09:48:51.375464Z",
     "shell.execute_reply": "2022-10-24T09:48:51.374320Z",
     "shell.execute_reply.started": "2022-10-24T09:48:51.360849Z"
    },
    "tags": []
   },
   "outputs": [
    {
     "data": {
      "text/plain": [
       "(516     2017-01-01\n",
       " 5876    2017-01-01\n",
       " 3459    2017-01-01\n",
       " 12484   2017-01-01\n",
       " 19130   2017-01-01\n",
       "            ...    \n",
       " 605     2017-12-30\n",
       " 15269   2017-12-30\n",
       " 19906   2017-12-30\n",
       " 15756   2017-12-30\n",
       " 12003   2017-12-30\n",
       " Name: transaction_date, Length: 20000, dtype: datetime64[ns],\n",
       " 1696    2017-12-30\n",
       " 15269   2017-12-30\n",
       " 4668    2017-12-30\n",
       " 13574   2017-12-30\n",
       " 3937    2017-12-30\n",
       "            ...    \n",
       " 16397   2017-01-01\n",
       " 15204   2017-01-01\n",
       " 15137   2017-01-01\n",
       " 3459    2017-01-01\n",
       " 13933   2017-01-01\n",
       " Name: transaction_date, Length: 20000, dtype: datetime64[ns])"
      ]
     },
     "execution_count": 22,
     "metadata": {},
     "output_type": "execute_result"
    }
   ],
   "source": [
    "transaction_df.transaction_date.sort_values(ascending=True), transaction_df.transaction_date.sort_values(ascending=False)"
   ]
  },
  {
   "cell_type": "code",
   "execution_count": 24,
   "id": "d8e95b1c-9368-4b9c-9543-5ea9d5477348",
   "metadata": {
    "execution": {
     "iopub.execute_input": "2022-10-24T09:49:32.925366Z",
     "iopub.status.busy": "2022-10-24T09:49:32.924880Z",
     "iopub.status.idle": "2022-10-24T09:49:32.935649Z",
     "shell.execute_reply": "2022-10-24T09:49:32.934759Z",
     "shell.execute_reply.started": "2022-10-24T09:49:32.925332Z"
    }
   },
   "outputs": [
    {
     "data": {
      "text/plain": [
       "1.0    9829\n",
       "0.0    9811\n",
       "Name: online_order, dtype: int64"
      ]
     },
     "execution_count": 24,
     "metadata": {},
     "output_type": "execute_result"
    }
   ],
   "source": [
    "transaction_df.online_order.value_counts()"
   ]
  },
  {
   "cell_type": "code",
   "execution_count": 23,
   "id": "97e39071-e6f4-4e05-b509-41990541766b",
   "metadata": {
    "execution": {
     "iopub.execute_input": "2022-10-24T09:49:13.635731Z",
     "iopub.status.busy": "2022-10-24T09:49:13.635143Z",
     "iopub.status.idle": "2022-10-24T09:49:13.644393Z",
     "shell.execute_reply": "2022-10-24T09:49:13.643249Z",
     "shell.execute_reply.started": "2022-10-24T09:49:13.635695Z"
    }
   },
   "outputs": [
    {
     "data": {
      "text/plain": [
       "Approved     19821\n",
       "Cancelled      179\n",
       "Name: order_status, dtype: int64"
      ]
     },
     "execution_count": 23,
     "metadata": {},
     "output_type": "execute_result"
    }
   ],
   "source": [
    "transaction_df.order_status.value_counts()"
   ]
  },
  {
   "cell_type": "code",
   "execution_count": 28,
   "id": "774fd50f-8a6c-462a-a495-b5cde1402020",
   "metadata": {
    "execution": {
     "iopub.execute_input": "2022-10-24T09:51:24.083820Z",
     "iopub.status.busy": "2022-10-24T09:51:24.083577Z",
     "iopub.status.idle": "2022-10-24T09:51:24.096345Z",
     "shell.execute_reply": "2022-10-24T09:51:24.093317Z",
     "shell.execute_reply.started": "2022-10-24T09:51:24.083796Z"
    }
   },
   "outputs": [
    {
     "data": {
      "text/plain": [
       "count    19803.000000\n",
       "mean       556.046951\n",
       "std        405.955660\n",
       "min          7.210000\n",
       "25%        215.140000\n",
       "50%        507.580000\n",
       "75%        795.100000\n",
       "max       1759.850000\n",
       "Name: standard_cost, dtype: float64"
      ]
     },
     "execution_count": 28,
     "metadata": {},
     "output_type": "execute_result"
    }
   ],
   "source": [
    "transaction_df.standard_cost.describe()"
   ]
  },
  {
   "cell_type": "markdown",
   "id": "fcac475d-97e6-4b69-91d7-5fa2f7785467",
   "metadata": {},
   "source": [
    "## NewCustomerList worksheet"
   ]
  },
  {
   "cell_type": "code",
   "execution_count": 12,
   "id": "251adb37-1434-4002-8473-a3bd70ca6d06",
   "metadata": {
    "execution": {
     "iopub.execute_input": "2022-10-24T08:44:33.092765Z",
     "iopub.status.busy": "2022-10-24T08:44:33.092468Z",
     "iopub.status.idle": "2022-10-24T08:44:33.123447Z",
     "shell.execute_reply": "2022-10-24T08:44:33.122389Z",
     "shell.execute_reply.started": "2022-10-24T08:44:33.092739Z"
    },
    "tags": []
   },
   "outputs": [
    {
     "data": {
      "text/html": [
       "<div>\n",
       "<style scoped>\n",
       "    .dataframe tbody tr th:only-of-type {\n",
       "        vertical-align: middle;\n",
       "    }\n",
       "\n",
       "    .dataframe tbody tr th {\n",
       "        vertical-align: top;\n",
       "    }\n",
       "\n",
       "    .dataframe thead th {\n",
       "        text-align: right;\n",
       "    }\n",
       "</style>\n",
       "<table border=\"1\" class=\"dataframe\">\n",
       "  <thead>\n",
       "    <tr style=\"text-align: right;\">\n",
       "      <th></th>\n",
       "      <th>first_name</th>\n",
       "      <th>last_name</th>\n",
       "      <th>gender</th>\n",
       "      <th>past_3_years_bike_related_purchases</th>\n",
       "      <th>DOB</th>\n",
       "      <th>job_title</th>\n",
       "      <th>job_industry_category</th>\n",
       "      <th>wealth_segment</th>\n",
       "      <th>deceased_indicator</th>\n",
       "      <th>owns_car</th>\n",
       "      <th>...</th>\n",
       "      <th>state</th>\n",
       "      <th>country</th>\n",
       "      <th>property_valuation</th>\n",
       "      <th>Unnamed: 16</th>\n",
       "      <th>Unnamed: 17</th>\n",
       "      <th>Unnamed: 18</th>\n",
       "      <th>Unnamed: 19</th>\n",
       "      <th>Unnamed: 20</th>\n",
       "      <th>Rank</th>\n",
       "      <th>Value</th>\n",
       "    </tr>\n",
       "  </thead>\n",
       "  <tbody>\n",
       "    <tr>\n",
       "      <th>995</th>\n",
       "      <td>Ferdinand</td>\n",
       "      <td>Romanetti</td>\n",
       "      <td>Male</td>\n",
       "      <td>60</td>\n",
       "      <td>1959-10-07</td>\n",
       "      <td>Paralegal</td>\n",
       "      <td>Financial Services</td>\n",
       "      <td>Affluent Customer</td>\n",
       "      <td>N</td>\n",
       "      <td>No</td>\n",
       "      <td>...</td>\n",
       "      <td>NSW</td>\n",
       "      <td>Australia</td>\n",
       "      <td>7</td>\n",
       "      <td>0.79</td>\n",
       "      <td>0.7900</td>\n",
       "      <td>0.790000</td>\n",
       "      <td>0.790000</td>\n",
       "      <td>996</td>\n",
       "      <td>996</td>\n",
       "      <td>0.374</td>\n",
       "    </tr>\n",
       "    <tr>\n",
       "      <th>996</th>\n",
       "      <td>Burk</td>\n",
       "      <td>Wortley</td>\n",
       "      <td>Male</td>\n",
       "      <td>22</td>\n",
       "      <td>2001-10-17</td>\n",
       "      <td>Senior Sales Associate</td>\n",
       "      <td>Health</td>\n",
       "      <td>Mass Customer</td>\n",
       "      <td>N</td>\n",
       "      <td>No</td>\n",
       "      <td>...</td>\n",
       "      <td>NSW</td>\n",
       "      <td>Australia</td>\n",
       "      <td>10</td>\n",
       "      <td>0.76</td>\n",
       "      <td>0.7600</td>\n",
       "      <td>0.950000</td>\n",
       "      <td>0.807500</td>\n",
       "      <td>997</td>\n",
       "      <td>997</td>\n",
       "      <td>0.357</td>\n",
       "    </tr>\n",
       "    <tr>\n",
       "      <th>997</th>\n",
       "      <td>Melloney</td>\n",
       "      <td>Temby</td>\n",
       "      <td>Female</td>\n",
       "      <td>17</td>\n",
       "      <td>1954-10-05</td>\n",
       "      <td>Budget/Accounting Analyst IV</td>\n",
       "      <td>Financial Services</td>\n",
       "      <td>Affluent Customer</td>\n",
       "      <td>N</td>\n",
       "      <td>Yes</td>\n",
       "      <td>...</td>\n",
       "      <td>QLD</td>\n",
       "      <td>Australia</td>\n",
       "      <td>2</td>\n",
       "      <td>0.85</td>\n",
       "      <td>1.0625</td>\n",
       "      <td>1.062500</td>\n",
       "      <td>1.062500</td>\n",
       "      <td>997</td>\n",
       "      <td>997</td>\n",
       "      <td>0.357</td>\n",
       "    </tr>\n",
       "    <tr>\n",
       "      <th>998</th>\n",
       "      <td>Dickie</td>\n",
       "      <td>Cubbini</td>\n",
       "      <td>Male</td>\n",
       "      <td>30</td>\n",
       "      <td>1952-12-17</td>\n",
       "      <td>Financial Advisor</td>\n",
       "      <td>Financial Services</td>\n",
       "      <td>Mass Customer</td>\n",
       "      <td>N</td>\n",
       "      <td>Yes</td>\n",
       "      <td>...</td>\n",
       "      <td>QLD</td>\n",
       "      <td>Australia</td>\n",
       "      <td>2</td>\n",
       "      <td>1.09</td>\n",
       "      <td>1.3625</td>\n",
       "      <td>1.362500</td>\n",
       "      <td>1.158125</td>\n",
       "      <td>997</td>\n",
       "      <td>997</td>\n",
       "      <td>0.357</td>\n",
       "    </tr>\n",
       "    <tr>\n",
       "      <th>999</th>\n",
       "      <td>Sylas</td>\n",
       "      <td>Duffill</td>\n",
       "      <td>Male</td>\n",
       "      <td>56</td>\n",
       "      <td>1955-10-02</td>\n",
       "      <td>Staff Accountant IV</td>\n",
       "      <td>Property</td>\n",
       "      <td>Mass Customer</td>\n",
       "      <td>N</td>\n",
       "      <td>Yes</td>\n",
       "      <td>...</td>\n",
       "      <td>NSW</td>\n",
       "      <td>Australia</td>\n",
       "      <td>9</td>\n",
       "      <td>0.47</td>\n",
       "      <td>0.5875</td>\n",
       "      <td>0.734375</td>\n",
       "      <td>0.624219</td>\n",
       "      <td>1000</td>\n",
       "      <td>1000</td>\n",
       "      <td>0.340</td>\n",
       "    </tr>\n",
       "  </tbody>\n",
       "</table>\n",
       "<p>5 rows × 23 columns</p>\n",
       "</div>"
      ],
      "text/plain": [
       "    first_name  last_name  gender  past_3_years_bike_related_purchases  \\\n",
       "995  Ferdinand  Romanetti    Male                                   60   \n",
       "996       Burk    Wortley    Male                                   22   \n",
       "997   Melloney      Temby  Female                                   17   \n",
       "998     Dickie    Cubbini    Male                                   30   \n",
       "999      Sylas    Duffill    Male                                   56   \n",
       "\n",
       "           DOB                     job_title job_industry_category  \\\n",
       "995 1959-10-07                     Paralegal    Financial Services   \n",
       "996 2001-10-17        Senior Sales Associate                Health   \n",
       "997 1954-10-05  Budget/Accounting Analyst IV    Financial Services   \n",
       "998 1952-12-17             Financial Advisor    Financial Services   \n",
       "999 1955-10-02           Staff Accountant IV              Property   \n",
       "\n",
       "        wealth_segment deceased_indicator owns_car  ...  state    country  \\\n",
       "995  Affluent Customer                  N       No  ...    NSW  Australia   \n",
       "996      Mass Customer                  N       No  ...    NSW  Australia   \n",
       "997  Affluent Customer                  N      Yes  ...    QLD  Australia   \n",
       "998      Mass Customer                  N      Yes  ...    QLD  Australia   \n",
       "999      Mass Customer                  N      Yes  ...    NSW  Australia   \n",
       "\n",
       "     property_valuation Unnamed: 16 Unnamed: 17  Unnamed: 18  Unnamed: 19  \\\n",
       "995                   7        0.79      0.7900     0.790000     0.790000   \n",
       "996                  10        0.76      0.7600     0.950000     0.807500   \n",
       "997                   2        0.85      1.0625     1.062500     1.062500   \n",
       "998                   2        1.09      1.3625     1.362500     1.158125   \n",
       "999                   9        0.47      0.5875     0.734375     0.624219   \n",
       "\n",
       "     Unnamed: 20  Rank  Value  \n",
       "995          996   996  0.374  \n",
       "996          997   997  0.357  \n",
       "997          997   997  0.357  \n",
       "998          997   997  0.357  \n",
       "999         1000  1000  0.340  \n",
       "\n",
       "[5 rows x 23 columns]"
      ]
     },
     "execution_count": 12,
     "metadata": {},
     "output_type": "execute_result"
    }
   ],
   "source": [
    "new_customer_list_df.tail()"
   ]
  },
  {
   "cell_type": "code",
   "execution_count": 30,
   "id": "7fd81c81-d3ae-4c07-bbce-87f0a7fd1f87",
   "metadata": {
    "execution": {
     "iopub.execute_input": "2022-10-24T09:53:01.097035Z",
     "iopub.status.busy": "2022-10-24T09:53:01.096629Z",
     "iopub.status.idle": "2022-10-24T09:53:01.107860Z",
     "shell.execute_reply": "2022-10-24T09:53:01.107141Z",
     "shell.execute_reply.started": "2022-10-24T09:53:01.097004Z"
    },
    "tags": []
   },
   "outputs": [
    {
     "data": {
      "text/plain": [
       "first_name                               0\n",
       "last_name                               29\n",
       "gender                                   0\n",
       "past_3_years_bike_related_purchases      0\n",
       "DOB                                     17\n",
       "job_title                              106\n",
       "job_industry_category                  165\n",
       "wealth_segment                           0\n",
       "deceased_indicator                       0\n",
       "owns_car                                 0\n",
       "tenure                                   0\n",
       "address                                  0\n",
       "postcode                                 0\n",
       "state                                    0\n",
       "country                                  0\n",
       "property_valuation                       0\n",
       "Unnamed: 16                              0\n",
       "Unnamed: 17                              0\n",
       "Unnamed: 18                              0\n",
       "Unnamed: 19                              0\n",
       "Unnamed: 20                              0\n",
       "Rank                                     0\n",
       "Value                                    0\n",
       "dtype: int64"
      ]
     },
     "execution_count": 30,
     "metadata": {},
     "output_type": "execute_result"
    }
   ],
   "source": [
    "new_customer_list_df.isna().sum()"
   ]
  },
  {
   "cell_type": "code",
   "execution_count": 31,
   "id": "14c5fb4f-e449-4c13-a770-6075f0d78a45",
   "metadata": {
    "execution": {
     "iopub.execute_input": "2022-10-24T09:55:14.433667Z",
     "iopub.status.busy": "2022-10-24T09:55:14.433152Z",
     "iopub.status.idle": "2022-10-24T09:55:14.440679Z",
     "shell.execute_reply": "2022-10-24T09:55:14.439676Z",
     "shell.execute_reply.started": "2022-10-24T09:55:14.433639Z"
    }
   },
   "outputs": [
    {
     "data": {
      "text/plain": [
       "Female    513\n",
       "Male      470\n",
       "U          17\n",
       "Name: gender, dtype: int64"
      ]
     },
     "execution_count": 31,
     "metadata": {},
     "output_type": "execute_result"
    }
   ],
   "source": [
    "new_customer_list_df.gender.value_counts()"
   ]
  },
  {
   "cell_type": "code",
   "execution_count": 34,
   "id": "168e2d7e-f623-4bcd-88f5-215f53715db1",
   "metadata": {
    "execution": {
     "iopub.execute_input": "2022-10-24T09:55:52.590775Z",
     "iopub.status.busy": "2022-10-24T09:55:52.590480Z",
     "iopub.status.idle": "2022-10-24T09:55:52.599172Z",
     "shell.execute_reply": "2022-10-24T09:55:52.598382Z",
     "shell.execute_reply.started": "2022-10-24T09:55:52.590746Z"
    },
    "tags": []
   },
   "outputs": [
    {
     "data": {
      "text/plain": [
       "60    20\n",
       "59    18\n",
       "42    17\n",
       "70    17\n",
       "11    16\n",
       "      ..\n",
       "19     5\n",
       "9      5\n",
       "92     5\n",
       "85     4\n",
       "20     3\n",
       "Name: past_3_years_bike_related_purchases, Length: 100, dtype: int64"
      ]
     },
     "execution_count": 34,
     "metadata": {},
     "output_type": "execute_result"
    }
   ],
   "source": [
    "new_customer_list_df.past_3_years_bike_related_purchases.value_counts()"
   ]
  },
  {
   "cell_type": "code",
   "execution_count": 35,
   "id": "3bcd41bf-ad13-4f71-a3b9-378375788d31",
   "metadata": {
    "execution": {
     "iopub.execute_input": "2022-10-24T09:56:00.051454Z",
     "iopub.status.busy": "2022-10-24T09:56:00.051117Z",
     "iopub.status.idle": "2022-10-24T09:56:00.063178Z",
     "shell.execute_reply": "2022-10-24T09:56:00.057728Z",
     "shell.execute_reply.started": "2022-10-24T09:56:00.051422Z"
    }
   },
   "outputs": [
    {
     "data": {
      "text/plain": [
       "dtype('int64')"
      ]
     },
     "execution_count": 35,
     "metadata": {},
     "output_type": "execute_result"
    }
   ],
   "source": [
    "new_customer_list_df.past_3_years_bike_related_purchases.dtypes"
   ]
  },
  {
   "cell_type": "code",
   "execution_count": 36,
   "id": "d6886aed-139f-46fc-872c-110318b9e958",
   "metadata": {
    "execution": {
     "iopub.execute_input": "2022-10-24T09:56:19.416261Z",
     "iopub.status.busy": "2022-10-24T09:56:19.415987Z",
     "iopub.status.idle": "2022-10-24T09:56:19.424467Z",
     "shell.execute_reply": "2022-10-24T09:56:19.423300Z",
     "shell.execute_reply.started": "2022-10-24T09:56:19.416235Z"
    }
   },
   "outputs": [
    {
     "data": {
      "text/plain": [
       "797   1938-06-08\n",
       "885   1938-06-09\n",
       "769   1938-08-05\n",
       "585   1938-08-30\n",
       "265   1938-08-31\n",
       "         ...    \n",
       "775          NaT\n",
       "835          NaT\n",
       "883          NaT\n",
       "904          NaT\n",
       "984          NaT\n",
       "Name: DOB, Length: 1000, dtype: datetime64[ns]"
      ]
     },
     "execution_count": 36,
     "metadata": {},
     "output_type": "execute_result"
    }
   ],
   "source": [
    "new_customer_list_df.DOB.sort_values()"
   ]
  },
  {
   "cell_type": "code",
   "execution_count": 37,
   "id": "cdd81bae-2360-4165-8ca7-575e7b42c3ff",
   "metadata": {
    "execution": {
     "iopub.execute_input": "2022-10-24T09:56:32.604996Z",
     "iopub.status.busy": "2022-10-24T09:56:32.604754Z",
     "iopub.status.idle": "2022-10-24T09:56:32.612864Z",
     "shell.execute_reply": "2022-10-24T09:56:32.612055Z",
     "shell.execute_reply.started": "2022-10-24T09:56:32.604972Z"
    }
   },
   "outputs": [
    {
     "data": {
      "text/plain": [
       "354   2002-02-27\n",
       "396   2002-01-17\n",
       "763   2002-01-04\n",
       "475   2001-12-29\n",
       "996   2001-10-17\n",
       "         ...    \n",
       "775          NaT\n",
       "835          NaT\n",
       "883          NaT\n",
       "904          NaT\n",
       "984          NaT\n",
       "Name: DOB, Length: 1000, dtype: datetime64[ns]"
      ]
     },
     "execution_count": 37,
     "metadata": {},
     "output_type": "execute_result"
    }
   ],
   "source": [
    "new_customer_list_df.DOB.sort_values(ascending=False)"
   ]
  },
  {
   "cell_type": "code",
   "execution_count": 38,
   "id": "53dfed0e-2a65-4ef9-9422-99bca104b109",
   "metadata": {
    "execution": {
     "iopub.execute_input": "2022-10-24T09:57:08.323409Z",
     "iopub.status.busy": "2022-10-24T09:57:08.322974Z",
     "iopub.status.idle": "2022-10-24T09:57:08.331685Z",
     "shell.execute_reply": "2022-10-24T09:57:08.330696Z",
     "shell.execute_reply.started": "2022-10-24T09:57:08.323380Z"
    }
   },
   "outputs": [
    {
     "data": {
      "text/plain": [
       "Financial Services    203\n",
       "Manufacturing         199\n",
       "Health                152\n",
       "Retail                 78\n",
       "Property               64\n",
       "IT                     51\n",
       "Entertainment          37\n",
       "Argiculture            26\n",
       "Telecommunications     25\n",
       "Name: job_industry_category, dtype: int64"
      ]
     },
     "execution_count": 38,
     "metadata": {},
     "output_type": "execute_result"
    }
   ],
   "source": [
    "new_customer_list_df.job_industry_category.value_counts()"
   ]
  },
  {
   "cell_type": "code",
   "execution_count": 39,
   "id": "c7b71c2c-93da-44b5-9a21-65c9941580d2",
   "metadata": {
    "execution": {
     "iopub.execute_input": "2022-10-24T09:57:21.901767Z",
     "iopub.status.busy": "2022-10-24T09:57:21.901260Z",
     "iopub.status.idle": "2022-10-24T09:57:21.909053Z",
     "shell.execute_reply": "2022-10-24T09:57:21.907880Z",
     "shell.execute_reply.started": "2022-10-24T09:57:21.901740Z"
    }
   },
   "outputs": [
    {
     "data": {
      "text/plain": [
       "Mass Customer        508\n",
       "High Net Worth       251\n",
       "Affluent Customer    241\n",
       "Name: wealth_segment, dtype: int64"
      ]
     },
     "execution_count": 39,
     "metadata": {},
     "output_type": "execute_result"
    }
   ],
   "source": [
    "new_customer_list_df.wealth_segment.value_counts()"
   ]
  },
  {
   "cell_type": "code",
   "execution_count": 40,
   "id": "584ceb7c-d053-4999-84d6-3f53239c5d82",
   "metadata": {
    "execution": {
     "iopub.execute_input": "2022-10-24T09:57:52.091296Z",
     "iopub.status.busy": "2022-10-24T09:57:52.090567Z",
     "iopub.status.idle": "2022-10-24T09:57:52.099065Z",
     "shell.execute_reply": "2022-10-24T09:57:52.098020Z",
     "shell.execute_reply.started": "2022-10-24T09:57:52.091251Z"
    }
   },
   "outputs": [
    {
     "data": {
      "text/plain": [
       "Index(['first_name', 'last_name', 'gender',\n",
       "       'past_3_years_bike_related_purchases', 'DOB', 'job_title',\n",
       "       'job_industry_category', 'wealth_segment', 'deceased_indicator',\n",
       "       'owns_car', 'tenure', 'address', 'postcode', 'state', 'country',\n",
       "       'property_valuation', 'Unnamed: 16', 'Unnamed: 17', 'Unnamed: 18',\n",
       "       'Unnamed: 19', 'Unnamed: 20', 'Rank', 'Value'],\n",
       "      dtype='object')"
      ]
     },
     "execution_count": 40,
     "metadata": {},
     "output_type": "execute_result"
    }
   ],
   "source": [
    "new_customer_list_df.columns"
   ]
  },
  {
   "cell_type": "code",
   "execution_count": 41,
   "id": "f3db2edf-9d2e-4149-8389-b9a917008f4f",
   "metadata": {
    "execution": {
     "iopub.execute_input": "2022-10-24T09:58:04.481084Z",
     "iopub.status.busy": "2022-10-24T09:58:04.480851Z",
     "iopub.status.idle": "2022-10-24T09:58:04.487155Z",
     "shell.execute_reply": "2022-10-24T09:58:04.486504Z",
     "shell.execute_reply.started": "2022-10-24T09:58:04.481059Z"
    }
   },
   "outputs": [
    {
     "data": {
      "text/plain": [
       "No     507\n",
       "Yes    493\n",
       "Name: owns_car, dtype: int64"
      ]
     },
     "execution_count": 41,
     "metadata": {},
     "output_type": "execute_result"
    }
   ],
   "source": [
    "new_customer_list_df.owns_car.value_counts()"
   ]
  },
  {
   "cell_type": "code",
   "execution_count": 42,
   "id": "58174ac9-0feb-4174-bbd7-2f1387c0f1a0",
   "metadata": {
    "execution": {
     "iopub.execute_input": "2022-10-24T09:58:12.828711Z",
     "iopub.status.busy": "2022-10-24T09:58:12.828336Z",
     "iopub.status.idle": "2022-10-24T09:58:12.836039Z",
     "shell.execute_reply": "2022-10-24T09:58:12.835121Z",
     "shell.execute_reply.started": "2022-10-24T09:58:12.828682Z"
    }
   },
   "outputs": [
    {
     "data": {
      "text/plain": [
       "0      14\n",
       "1      16\n",
       "2      10\n",
       "3       5\n",
       "4      19\n",
       "       ..\n",
       "995     9\n",
       "996     6\n",
       "997    15\n",
       "998    19\n",
       "999    14\n",
       "Name: tenure, Length: 1000, dtype: int64"
      ]
     },
     "execution_count": 42,
     "metadata": {},
     "output_type": "execute_result"
    }
   ],
   "source": [
    "new_customer_list_df.tenure"
   ]
  },
  {
   "cell_type": "code",
   "execution_count": 43,
   "id": "2a30bbcb-020d-4fb8-bbce-a06e1cf60a9a",
   "metadata": {
    "execution": {
     "iopub.execute_input": "2022-10-24T09:58:28.709069Z",
     "iopub.status.busy": "2022-10-24T09:58:28.708771Z",
     "iopub.status.idle": "2022-10-24T09:58:28.719491Z",
     "shell.execute_reply": "2022-10-24T09:58:28.718689Z",
     "shell.execute_reply.started": "2022-10-24T09:58:28.709042Z"
    }
   },
   "outputs": [
    {
     "data": {
      "text/plain": [
       "count    1000.000000\n",
       "mean     3019.227000\n",
       "std       848.895767\n",
       "min      2000.000000\n",
       "25%      2209.000000\n",
       "50%      2800.000000\n",
       "75%      3845.500000\n",
       "max      4879.000000\n",
       "Name: postcode, dtype: float64"
      ]
     },
     "execution_count": 43,
     "metadata": {},
     "output_type": "execute_result"
    }
   ],
   "source": [
    "new_customer_list_df.postcode.describe()"
   ]
  },
  {
   "cell_type": "code",
   "execution_count": 73,
   "id": "7d6cfe84-d1fd-4ddd-81c2-79a45192c132",
   "metadata": {
    "execution": {
     "iopub.execute_input": "2022-10-24T10:10:02.470473Z",
     "iopub.status.busy": "2022-10-24T10:10:02.470238Z",
     "iopub.status.idle": "2022-10-24T10:10:02.477223Z",
     "shell.execute_reply": "2022-10-24T10:10:02.476361Z",
     "shell.execute_reply.started": "2022-10-24T10:10:02.470449Z"
    },
    "tags": []
   },
   "outputs": [
    {
     "data": {
      "text/plain": [
       "NSW    506\n",
       "VIC    266\n",
       "QLD    228\n",
       "Name: state, dtype: int64"
      ]
     },
     "execution_count": 73,
     "metadata": {},
     "output_type": "execute_result"
    }
   ],
   "source": [
    "new_customer_list_df.state.value_counts()"
   ]
  },
  {
   "cell_type": "code",
   "execution_count": 50,
   "id": "8e97100d-6b54-4716-a659-bf4da3f0c54e",
   "metadata": {
    "execution": {
     "iopub.execute_input": "2022-10-24T10:00:32.060612Z",
     "iopub.status.busy": "2022-10-24T10:00:32.060340Z",
     "iopub.status.idle": "2022-10-24T10:00:32.068264Z",
     "shell.execute_reply": "2022-10-24T10:00:32.067431Z",
     "shell.execute_reply.started": "2022-10-24T10:00:32.060587Z"
    },
    "tags": []
   },
   "outputs": [
    {
     "data": {
      "text/plain": [
       "760     13\n",
       "259     12\n",
       "455      9\n",
       "133      9\n",
       "386      9\n",
       "        ..\n",
       "240      1\n",
       "248      1\n",
       "657      1\n",
       "249      1\n",
       "1000     1\n",
       "Name: Rank, Length: 324, dtype: int64"
      ]
     },
     "execution_count": 50,
     "metadata": {},
     "output_type": "execute_result"
    }
   ],
   "source": [
    "new_customer_list_df.Rank.value_counts()"
   ]
  },
  {
   "cell_type": "code",
   "execution_count": 48,
   "id": "ba3f1636-a2f7-41ba-8cc5-57a1f854cc41",
   "metadata": {
    "execution": {
     "iopub.execute_input": "2022-10-24T10:00:15.067574Z",
     "iopub.status.busy": "2022-10-24T10:00:15.067336Z",
     "iopub.status.idle": "2022-10-24T10:00:15.072625Z",
     "shell.execute_reply": "2022-10-24T10:00:15.071812Z",
     "shell.execute_reply.started": "2022-10-24T10:00:15.067551Z"
    },
    "tags": []
   },
   "outputs": [
    {
     "data": {
      "text/plain": [
       "324"
      ]
     },
     "execution_count": 48,
     "metadata": {},
     "output_type": "execute_result"
    }
   ],
   "source": [
    "new_customer_list_df.Rank.nunique()"
   ]
  },
  {
   "cell_type": "code",
   "execution_count": 53,
   "id": "6c228b9b-bd2d-411e-910e-3866ac3d8bf7",
   "metadata": {
    "execution": {
     "iopub.execute_input": "2022-10-24T10:01:54.961170Z",
     "iopub.status.busy": "2022-10-24T10:01:54.960882Z",
     "iopub.status.idle": "2022-10-24T10:01:54.970870Z",
     "shell.execute_reply": "2022-10-24T10:01:54.969956Z",
     "shell.execute_reply.started": "2022-10-24T10:01:54.961140Z"
    },
    "tags": []
   },
   "outputs": [
    {
     "data": {
      "text/plain": [
       "count    1000.000000\n",
       "mean        0.881714\n",
       "std         0.293525\n",
       "min         0.340000\n",
       "25%         0.649531\n",
       "50%         0.860000\n",
       "75%         1.075000\n",
       "max         1.718750\n",
       "Name: Value, dtype: float64"
      ]
     },
     "execution_count": 53,
     "metadata": {},
     "output_type": "execute_result"
    }
   ],
   "source": [
    "new_customer_list_df.Value.describe()"
   ]
  },
  {
   "cell_type": "markdown",
   "id": "5548b80d-5cd3-410a-8ae8-978ce9f7a9b4",
   "metadata": {},
   "source": [
    "## CustomerDemographic worksheet"
   ]
  },
  {
   "cell_type": "code",
   "execution_count": 13,
   "id": "02a239a8-b66e-432d-b726-49a479979788",
   "metadata": {
    "execution": {
     "iopub.execute_input": "2022-10-24T08:44:52.549753Z",
     "iopub.status.busy": "2022-10-24T08:44:52.549381Z",
     "iopub.status.idle": "2022-10-24T08:44:52.565970Z",
     "shell.execute_reply": "2022-10-24T08:44:52.565186Z",
     "shell.execute_reply.started": "2022-10-24T08:44:52.549720Z"
    }
   },
   "outputs": [
    {
     "data": {
      "text/html": [
       "<div>\n",
       "<style scoped>\n",
       "    .dataframe tbody tr th:only-of-type {\n",
       "        vertical-align: middle;\n",
       "    }\n",
       "\n",
       "    .dataframe tbody tr th {\n",
       "        vertical-align: top;\n",
       "    }\n",
       "\n",
       "    .dataframe thead th {\n",
       "        text-align: right;\n",
       "    }\n",
       "</style>\n",
       "<table border=\"1\" class=\"dataframe\">\n",
       "  <thead>\n",
       "    <tr style=\"text-align: right;\">\n",
       "      <th></th>\n",
       "      <th>customer_id</th>\n",
       "      <th>first_name</th>\n",
       "      <th>last_name</th>\n",
       "      <th>gender</th>\n",
       "      <th>past_3_years_bike_related_purchases</th>\n",
       "      <th>DOB</th>\n",
       "      <th>job_title</th>\n",
       "      <th>job_industry_category</th>\n",
       "      <th>wealth_segment</th>\n",
       "      <th>deceased_indicator</th>\n",
       "      <th>default</th>\n",
       "      <th>owns_car</th>\n",
       "      <th>tenure</th>\n",
       "    </tr>\n",
       "  </thead>\n",
       "  <tbody>\n",
       "    <tr>\n",
       "      <th>3995</th>\n",
       "      <td>3996</td>\n",
       "      <td>Rosalia</td>\n",
       "      <td>Halgarth</td>\n",
       "      <td>Female</td>\n",
       "      <td>8</td>\n",
       "      <td>1975-08-09</td>\n",
       "      <td>VP Product Management</td>\n",
       "      <td>Health</td>\n",
       "      <td>Mass Customer</td>\n",
       "      <td>N</td>\n",
       "      <td>-100</td>\n",
       "      <td>No</td>\n",
       "      <td>19.0</td>\n",
       "    </tr>\n",
       "    <tr>\n",
       "      <th>3996</th>\n",
       "      <td>3997</td>\n",
       "      <td>Blanch</td>\n",
       "      <td>Nisuis</td>\n",
       "      <td>Female</td>\n",
       "      <td>87</td>\n",
       "      <td>2001-07-13</td>\n",
       "      <td>Statistician II</td>\n",
       "      <td>Manufacturing</td>\n",
       "      <td>High Net Worth</td>\n",
       "      <td>N</td>\n",
       "      <td>â¦testâ§</td>\n",
       "      <td>Yes</td>\n",
       "      <td>1.0</td>\n",
       "    </tr>\n",
       "    <tr>\n",
       "      <th>3997</th>\n",
       "      <td>3998</td>\n",
       "      <td>Sarene</td>\n",
       "      <td>Woolley</td>\n",
       "      <td>U</td>\n",
       "      <td>60</td>\n",
       "      <td>NaT</td>\n",
       "      <td>Assistant Manager</td>\n",
       "      <td>IT</td>\n",
       "      <td>High Net Worth</td>\n",
       "      <td>N</td>\n",
       "      <td>NaN</td>\n",
       "      <td>No</td>\n",
       "      <td>NaN</td>\n",
       "    </tr>\n",
       "    <tr>\n",
       "      <th>3998</th>\n",
       "      <td>3999</td>\n",
       "      <td>Patrizius</td>\n",
       "      <td>NaN</td>\n",
       "      <td>Male</td>\n",
       "      <td>11</td>\n",
       "      <td>1973-10-24</td>\n",
       "      <td>NaN</td>\n",
       "      <td>Manufacturing</td>\n",
       "      <td>Affluent Customer</td>\n",
       "      <td>N</td>\n",
       "      <td>Â¡â¢Â£Â¢âÂ§Â¶â¢ÂªÂºââ</td>\n",
       "      <td>Yes</td>\n",
       "      <td>10.0</td>\n",
       "    </tr>\n",
       "    <tr>\n",
       "      <th>3999</th>\n",
       "      <td>4000</td>\n",
       "      <td>Kippy</td>\n",
       "      <td>Oldland</td>\n",
       "      <td>Male</td>\n",
       "      <td>76</td>\n",
       "      <td>1991-11-05</td>\n",
       "      <td>Software Engineer IV</td>\n",
       "      <td>NaN</td>\n",
       "      <td>Affluent Customer</td>\n",
       "      <td>N</td>\n",
       "      <td>0/0</td>\n",
       "      <td>No</td>\n",
       "      <td>11.0</td>\n",
       "    </tr>\n",
       "  </tbody>\n",
       "</table>\n",
       "</div>"
      ],
      "text/plain": [
       "      customer_id first_name last_name  gender  \\\n",
       "3995         3996    Rosalia  Halgarth  Female   \n",
       "3996         3997     Blanch    Nisuis  Female   \n",
       "3997         3998     Sarene   Woolley       U   \n",
       "3998         3999  Patrizius       NaN    Male   \n",
       "3999         4000      Kippy   Oldland    Male   \n",
       "\n",
       "      past_3_years_bike_related_purchases        DOB              job_title  \\\n",
       "3995                                    8 1975-08-09  VP Product Management   \n",
       "3996                                   87 2001-07-13        Statistician II   \n",
       "3997                                   60        NaT      Assistant Manager   \n",
       "3998                                   11 1973-10-24                    NaN   \n",
       "3999                                   76 1991-11-05   Software Engineer IV   \n",
       "\n",
       "     job_industry_category     wealth_segment deceased_indicator  \\\n",
       "3995                Health      Mass Customer                  N   \n",
       "3996         Manufacturing     High Net Worth                  N   \n",
       "3997                    IT     High Net Worth                  N   \n",
       "3998         Manufacturing  Affluent Customer                  N   \n",
       "3999                   NaN  Affluent Customer                  N   \n",
       "\n",
       "                     default owns_car  tenure  \n",
       "3995                    -100       No    19.0  \n",
       "3996                â¦testâ§      Yes     1.0  \n",
       "3997                     NaN       No     NaN  \n",
       "3998  Â¡â¢Â£Â¢âÂ§Â¶â¢ÂªÂºââ       Yes    10.0  \n",
       "3999                     0/0       No    11.0  "
      ]
     },
     "execution_count": 13,
     "metadata": {},
     "output_type": "execute_result"
    }
   ],
   "source": [
    "customer_demographic.tail()"
   ]
  },
  {
   "cell_type": "code",
   "execution_count": 55,
   "id": "227bf6c4-d595-4815-aa63-071e88963040",
   "metadata": {
    "execution": {
     "iopub.execute_input": "2022-10-24T10:02:10.185241Z",
     "iopub.status.busy": "2022-10-24T10:02:10.185006Z",
     "iopub.status.idle": "2022-10-24T10:02:10.190101Z",
     "shell.execute_reply": "2022-10-24T10:02:10.189447Z",
     "shell.execute_reply.started": "2022-10-24T10:02:10.185217Z"
    },
    "tags": []
   },
   "outputs": [
    {
     "data": {
      "text/plain": [
       "Index(['customer_id', 'first_name', 'last_name', 'gender',\n",
       "       'past_3_years_bike_related_purchases', 'DOB', 'job_title',\n",
       "       'job_industry_category', 'wealth_segment', 'deceased_indicator',\n",
       "       'default', 'owns_car', 'tenure'],\n",
       "      dtype='object')"
      ]
     },
     "execution_count": 55,
     "metadata": {},
     "output_type": "execute_result"
    }
   ],
   "source": [
    "customer_demographic.columns"
   ]
  },
  {
   "cell_type": "code",
   "execution_count": 56,
   "id": "762b9fe3-4f48-4e9b-9898-4c7e6cbb047a",
   "metadata": {
    "execution": {
     "iopub.execute_input": "2022-10-24T10:02:16.180990Z",
     "iopub.status.busy": "2022-10-24T10:02:16.180675Z",
     "iopub.status.idle": "2022-10-24T10:02:16.187217Z",
     "shell.execute_reply": "2022-10-24T10:02:16.185963Z",
     "shell.execute_reply.started": "2022-10-24T10:02:16.180961Z"
    }
   },
   "outputs": [
    {
     "data": {
      "text/plain": [
       "(4000, 13)"
      ]
     },
     "execution_count": 56,
     "metadata": {},
     "output_type": "execute_result"
    }
   ],
   "source": [
    "customer_demographic.shape"
   ]
  },
  {
   "cell_type": "code",
   "execution_count": 57,
   "id": "d025a908-e719-4e85-9477-e85232fcb0d5",
   "metadata": {
    "execution": {
     "iopub.execute_input": "2022-10-24T10:02:29.250455Z",
     "iopub.status.busy": "2022-10-24T10:02:29.250009Z",
     "iopub.status.idle": "2022-10-24T10:02:29.265305Z",
     "shell.execute_reply": "2022-10-24T10:02:29.264196Z",
     "shell.execute_reply.started": "2022-10-24T10:02:29.250376Z"
    }
   },
   "outputs": [
    {
     "data": {
      "text/plain": [
       "customer_id                              0\n",
       "first_name                               0\n",
       "last_name                              125\n",
       "gender                                   0\n",
       "past_3_years_bike_related_purchases      0\n",
       "DOB                                     87\n",
       "job_title                              506\n",
       "job_industry_category                  656\n",
       "wealth_segment                           0\n",
       "deceased_indicator                       0\n",
       "default                                302\n",
       "owns_car                                 0\n",
       "tenure                                  87\n",
       "dtype: int64"
      ]
     },
     "execution_count": 57,
     "metadata": {},
     "output_type": "execute_result"
    }
   ],
   "source": [
    "customer_demographic.isna().sum()"
   ]
  },
  {
   "cell_type": "code",
   "execution_count": 58,
   "id": "972b0d4c-f4d4-46b1-bf50-d96955855551",
   "metadata": {
    "execution": {
     "iopub.execute_input": "2022-10-24T10:03:30.268777Z",
     "iopub.status.busy": "2022-10-24T10:03:30.268126Z",
     "iopub.status.idle": "2022-10-24T10:03:30.274774Z",
     "shell.execute_reply": "2022-10-24T10:03:30.274035Z",
     "shell.execute_reply.started": "2022-10-24T10:03:30.268748Z"
    }
   },
   "outputs": [
    {
     "data": {
      "text/plain": [
       "customer_id                                     int64\n",
       "first_name                                     object\n",
       "last_name                                      object\n",
       "gender                                         object\n",
       "past_3_years_bike_related_purchases             int64\n",
       "DOB                                    datetime64[ns]\n",
       "job_title                                      object\n",
       "job_industry_category                          object\n",
       "wealth_segment                                 object\n",
       "deceased_indicator                             object\n",
       "default                                        object\n",
       "owns_car                                       object\n",
       "tenure                                        float64\n",
       "dtype: object"
      ]
     },
     "execution_count": 58,
     "metadata": {},
     "output_type": "execute_result"
    }
   ],
   "source": [
    "customer_demographic.dtypes"
   ]
  },
  {
   "cell_type": "code",
   "execution_count": 59,
   "id": "b1209e78-8972-40df-acf8-d839a75701cd",
   "metadata": {
    "execution": {
     "iopub.execute_input": "2022-10-24T10:04:05.968668Z",
     "iopub.status.busy": "2022-10-24T10:04:05.968125Z",
     "iopub.status.idle": "2022-10-24T10:04:05.984957Z",
     "shell.execute_reply": "2022-10-24T10:04:05.983790Z",
     "shell.execute_reply.started": "2022-10-24T10:04:05.968638Z"
    }
   },
   "outputs": [
    {
     "data": {
      "text/html": [
       "<div>\n",
       "<style scoped>\n",
       "    .dataframe tbody tr th:only-of-type {\n",
       "        vertical-align: middle;\n",
       "    }\n",
       "\n",
       "    .dataframe tbody tr th {\n",
       "        vertical-align: top;\n",
       "    }\n",
       "\n",
       "    .dataframe thead th {\n",
       "        text-align: right;\n",
       "    }\n",
       "</style>\n",
       "<table border=\"1\" class=\"dataframe\">\n",
       "  <thead>\n",
       "    <tr style=\"text-align: right;\">\n",
       "      <th></th>\n",
       "      <th>past_3_years_bike_related_purchases</th>\n",
       "      <th>tenure</th>\n",
       "    </tr>\n",
       "  </thead>\n",
       "  <tbody>\n",
       "    <tr>\n",
       "      <th>count</th>\n",
       "      <td>4000.000000</td>\n",
       "      <td>3913.000000</td>\n",
       "    </tr>\n",
       "    <tr>\n",
       "      <th>mean</th>\n",
       "      <td>48.890000</td>\n",
       "      <td>10.657041</td>\n",
       "    </tr>\n",
       "    <tr>\n",
       "      <th>std</th>\n",
       "      <td>28.715005</td>\n",
       "      <td>5.660146</td>\n",
       "    </tr>\n",
       "    <tr>\n",
       "      <th>min</th>\n",
       "      <td>0.000000</td>\n",
       "      <td>1.000000</td>\n",
       "    </tr>\n",
       "    <tr>\n",
       "      <th>25%</th>\n",
       "      <td>24.000000</td>\n",
       "      <td>6.000000</td>\n",
       "    </tr>\n",
       "    <tr>\n",
       "      <th>50%</th>\n",
       "      <td>48.000000</td>\n",
       "      <td>11.000000</td>\n",
       "    </tr>\n",
       "    <tr>\n",
       "      <th>75%</th>\n",
       "      <td>73.000000</td>\n",
       "      <td>15.000000</td>\n",
       "    </tr>\n",
       "    <tr>\n",
       "      <th>max</th>\n",
       "      <td>99.000000</td>\n",
       "      <td>22.000000</td>\n",
       "    </tr>\n",
       "  </tbody>\n",
       "</table>\n",
       "</div>"
      ],
      "text/plain": [
       "       past_3_years_bike_related_purchases       tenure\n",
       "count                          4000.000000  3913.000000\n",
       "mean                             48.890000    10.657041\n",
       "std                              28.715005     5.660146\n",
       "min                               0.000000     1.000000\n",
       "25%                              24.000000     6.000000\n",
       "50%                              48.000000    11.000000\n",
       "75%                              73.000000    15.000000\n",
       "max                              99.000000    22.000000"
      ]
     },
     "execution_count": 59,
     "metadata": {},
     "output_type": "execute_result"
    }
   ],
   "source": [
    "customer_demographic[[\"past_3_years_bike_related_purchases\", \"tenure\"]].describe()"
   ]
  },
  {
   "cell_type": "code",
   "execution_count": 60,
   "id": "15c84fd5-6171-4c3a-9bb5-1911e0892ead",
   "metadata": {
    "execution": {
     "iopub.execute_input": "2022-10-24T10:04:23.956081Z",
     "iopub.status.busy": "2022-10-24T10:04:23.955556Z",
     "iopub.status.idle": "2022-10-24T10:04:23.963326Z",
     "shell.execute_reply": "2022-10-24T10:04:23.962450Z",
     "shell.execute_reply.started": "2022-10-24T10:04:23.956055Z"
    }
   },
   "outputs": [
    {
     "data": {
      "text/plain": [
       "Female    2037\n",
       "Male      1872\n",
       "U           88\n",
       "F            1\n",
       "Femal        1\n",
       "M            1\n",
       "Name: gender, dtype: int64"
      ]
     },
     "execution_count": 60,
     "metadata": {},
     "output_type": "execute_result"
    }
   ],
   "source": [
    "customer_demographic.gender.value_counts()"
   ]
  },
  {
   "cell_type": "code",
   "execution_count": 61,
   "id": "8fcd9c99-9a51-45ac-b65f-33dda40cf831",
   "metadata": {
    "execution": {
     "iopub.execute_input": "2022-10-24T10:05:07.124884Z",
     "iopub.status.busy": "2022-10-24T10:05:07.124158Z",
     "iopub.status.idle": "2022-10-24T10:05:07.134737Z",
     "shell.execute_reply": "2022-10-24T10:05:07.133951Z",
     "shell.execute_reply.started": "2022-10-24T10:05:07.124827Z"
    }
   },
   "outputs": [
    {
     "data": {
      "text/plain": [
       "33     1843-12-21\n",
       "719    1931-10-23\n",
       "1091   1935-08-22\n",
       "3409   1940-09-22\n",
       "2412   1943-08-11\n",
       "          ...    \n",
       "3778          NaT\n",
       "3882          NaT\n",
       "3930          NaT\n",
       "3934          NaT\n",
       "3997          NaT\n",
       "Name: DOB, Length: 4000, dtype: datetime64[ns]"
      ]
     },
     "execution_count": 61,
     "metadata": {},
     "output_type": "execute_result"
    }
   ],
   "source": [
    "customer_demographic.DOB.sort_values()"
   ]
  },
  {
   "cell_type": "code",
   "execution_count": 62,
   "id": "30043907-d00e-4a2e-b5b3-fdaa5dd50804",
   "metadata": {
    "execution": {
     "iopub.execute_input": "2022-10-24T10:05:24.006171Z",
     "iopub.status.busy": "2022-10-24T10:05:24.005299Z",
     "iopub.status.idle": "2022-10-24T10:05:24.015974Z",
     "shell.execute_reply": "2022-10-24T10:05:24.014737Z",
     "shell.execute_reply.started": "2022-10-24T10:05:24.006142Z"
    }
   },
   "outputs": [
    {
     "data": {
      "text/plain": [
       "65     2002-03-11\n",
       "1887   2002-01-26\n",
       "3434   2002-01-15\n",
       "2857   2002-01-09\n",
       "421    2002-01-06\n",
       "          ...    \n",
       "3778          NaT\n",
       "3882          NaT\n",
       "3930          NaT\n",
       "3934          NaT\n",
       "3997          NaT\n",
       "Name: DOB, Length: 4000, dtype: datetime64[ns]"
      ]
     },
     "execution_count": 62,
     "metadata": {},
     "output_type": "execute_result"
    }
   ],
   "source": [
    "customer_demographic.DOB.sort_values(ascending=False)"
   ]
  },
  {
   "cell_type": "code",
   "execution_count": 63,
   "id": "d50ba8c4-b3f5-4289-be08-655e29e98734",
   "metadata": {
    "execution": {
     "iopub.execute_input": "2022-10-24T10:06:30.442247Z",
     "iopub.status.busy": "2022-10-24T10:06:30.441948Z",
     "iopub.status.idle": "2022-10-24T10:06:30.450614Z",
     "shell.execute_reply": "2022-10-24T10:06:30.449553Z",
     "shell.execute_reply.started": "2022-10-24T10:06:30.442220Z"
    }
   },
   "outputs": [
    {
     "data": {
      "text/plain": [
       "Manufacturing         799\n",
       "Financial Services    774\n",
       "Health                602\n",
       "Retail                358\n",
       "Property              267\n",
       "IT                    223\n",
       "Entertainment         136\n",
       "Argiculture           113\n",
       "Telecommunications     72\n",
       "Name: job_industry_category, dtype: int64"
      ]
     },
     "execution_count": 63,
     "metadata": {},
     "output_type": "execute_result"
    }
   ],
   "source": [
    "customer_demographic.job_industry_category.value_counts()"
   ]
  },
  {
   "cell_type": "code",
   "execution_count": 64,
   "id": "0baa9919-315b-4054-a68f-b14fe943a043",
   "metadata": {
    "execution": {
     "iopub.execute_input": "2022-10-24T10:06:55.963520Z",
     "iopub.status.busy": "2022-10-24T10:06:55.963275Z",
     "iopub.status.idle": "2022-10-24T10:06:55.969214Z",
     "shell.execute_reply": "2022-10-24T10:06:55.968577Z",
     "shell.execute_reply.started": "2022-10-24T10:06:55.963496Z"
    }
   },
   "outputs": [
    {
     "data": {
      "text/plain": [
       "Mass Customer        2000\n",
       "High Net Worth       1021\n",
       "Affluent Customer     979\n",
       "Name: wealth_segment, dtype: int64"
      ]
     },
     "execution_count": 64,
     "metadata": {},
     "output_type": "execute_result"
    }
   ],
   "source": [
    "customer_demographic.wealth_segment.value_counts()"
   ]
  },
  {
   "cell_type": "code",
   "execution_count": 65,
   "id": "bc25cfcf-e0b8-4d70-81cd-7eead9fdbdb8",
   "metadata": {
    "execution": {
     "iopub.execute_input": "2022-10-24T10:07:12.288336Z",
     "iopub.status.busy": "2022-10-24T10:07:12.288045Z",
     "iopub.status.idle": "2022-10-24T10:07:12.297521Z",
     "shell.execute_reply": "2022-10-24T10:07:12.296053Z",
     "shell.execute_reply.started": "2022-10-24T10:07:12.288307Z"
    }
   },
   "outputs": [
    {
     "data": {
      "text/plain": [
       "N    3998\n",
       "Y       2\n",
       "Name: deceased_indicator, dtype: int64"
      ]
     },
     "execution_count": 65,
     "metadata": {},
     "output_type": "execute_result"
    }
   ],
   "source": [
    "customer_demographic.deceased_indicator.value_counts()"
   ]
  },
  {
   "cell_type": "code",
   "execution_count": 66,
   "id": "ae765022-8775-4a8d-8c40-ddc8718a3792",
   "metadata": {
    "execution": {
     "iopub.execute_input": "2022-10-24T10:07:23.333172Z",
     "iopub.status.busy": "2022-10-24T10:07:23.332625Z",
     "iopub.status.idle": "2022-10-24T10:07:23.340532Z",
     "shell.execute_reply": "2022-10-24T10:07:23.339573Z",
     "shell.execute_reply.started": "2022-10-24T10:07:23.333142Z"
    }
   },
   "outputs": [
    {
     "data": {
      "text/plain": [
       "100                                       113\n",
       "1                                         112\n",
       "-1                                        111\n",
       "-100                                       99\n",
       "Ù¡Ù¢Ù£                                     53\n",
       "                                         ... \n",
       "testâ testâ«                               31\n",
       "/dev/null; touch /tmp/blns.fail ; echo     30\n",
       "âªâªtestâª                                 29\n",
       "ì¸ëë°í ë¥´                                 27\n",
       ",ãã»:*:ã»ãâ( â» Ï â» )ãã»:*:ã»ãâ           25\n",
       "Name: default, Length: 90, dtype: int64"
      ]
     },
     "execution_count": 66,
     "metadata": {},
     "output_type": "execute_result"
    }
   ],
   "source": [
    "customer_demographic.default.value_counts()"
   ]
  },
  {
   "cell_type": "code",
   "execution_count": 67,
   "id": "9bb483a3-1a5d-40af-a44d-93b47991ab23",
   "metadata": {
    "execution": {
     "iopub.execute_input": "2022-10-24T10:08:16.765024Z",
     "iopub.status.busy": "2022-10-24T10:08:16.764483Z",
     "iopub.status.idle": "2022-10-24T10:08:16.771781Z",
     "shell.execute_reply": "2022-10-24T10:08:16.770841Z",
     "shell.execute_reply.started": "2022-10-24T10:08:16.764995Z"
    }
   },
   "outputs": [
    {
     "data": {
      "text/plain": [
       "Yes    2024\n",
       "No     1976\n",
       "Name: owns_car, dtype: int64"
      ]
     },
     "execution_count": 67,
     "metadata": {},
     "output_type": "execute_result"
    }
   ],
   "source": [
    "customer_demographic.owns_car.value_counts()"
   ]
  },
  {
   "cell_type": "markdown",
   "id": "0a767f9c-78dd-4519-97a2-b1537c2a59e0",
   "metadata": {},
   "source": [
    "## CustomerAddress worksheet"
   ]
  },
  {
   "cell_type": "code",
   "execution_count": 14,
   "id": "c892ced6-300e-4440-ab56-6eee75adf0d1",
   "metadata": {
    "execution": {
     "iopub.execute_input": "2022-10-24T08:44:57.696360Z",
     "iopub.status.busy": "2022-10-24T08:44:57.696108Z",
     "iopub.status.idle": "2022-10-24T08:44:57.705463Z",
     "shell.execute_reply": "2022-10-24T08:44:57.704627Z",
     "shell.execute_reply.started": "2022-10-24T08:44:57.696336Z"
    }
   },
   "outputs": [
    {
     "data": {
      "text/html": [
       "<div>\n",
       "<style scoped>\n",
       "    .dataframe tbody tr th:only-of-type {\n",
       "        vertical-align: middle;\n",
       "    }\n",
       "\n",
       "    .dataframe tbody tr th {\n",
       "        vertical-align: top;\n",
       "    }\n",
       "\n",
       "    .dataframe thead th {\n",
       "        text-align: right;\n",
       "    }\n",
       "</style>\n",
       "<table border=\"1\" class=\"dataframe\">\n",
       "  <thead>\n",
       "    <tr style=\"text-align: right;\">\n",
       "      <th></th>\n",
       "      <th>customer_id</th>\n",
       "      <th>address</th>\n",
       "      <th>postcode</th>\n",
       "      <th>state</th>\n",
       "      <th>country</th>\n",
       "      <th>property_valuation</th>\n",
       "    </tr>\n",
       "  </thead>\n",
       "  <tbody>\n",
       "    <tr>\n",
       "      <th>3994</th>\n",
       "      <td>3999</td>\n",
       "      <td>1482 Hauk Trail</td>\n",
       "      <td>3064</td>\n",
       "      <td>VIC</td>\n",
       "      <td>Australia</td>\n",
       "      <td>3</td>\n",
       "    </tr>\n",
       "    <tr>\n",
       "      <th>3995</th>\n",
       "      <td>4000</td>\n",
       "      <td>57042 Village Green Point</td>\n",
       "      <td>4511</td>\n",
       "      <td>QLD</td>\n",
       "      <td>Australia</td>\n",
       "      <td>6</td>\n",
       "    </tr>\n",
       "    <tr>\n",
       "      <th>3996</th>\n",
       "      <td>4001</td>\n",
       "      <td>87 Crescent Oaks Alley</td>\n",
       "      <td>2756</td>\n",
       "      <td>NSW</td>\n",
       "      <td>Australia</td>\n",
       "      <td>10</td>\n",
       "    </tr>\n",
       "    <tr>\n",
       "      <th>3997</th>\n",
       "      <td>4002</td>\n",
       "      <td>8194 Lien Street</td>\n",
       "      <td>4032</td>\n",
       "      <td>QLD</td>\n",
       "      <td>Australia</td>\n",
       "      <td>7</td>\n",
       "    </tr>\n",
       "    <tr>\n",
       "      <th>3998</th>\n",
       "      <td>4003</td>\n",
       "      <td>320 Acker Drive</td>\n",
       "      <td>2251</td>\n",
       "      <td>NSW</td>\n",
       "      <td>Australia</td>\n",
       "      <td>7</td>\n",
       "    </tr>\n",
       "  </tbody>\n",
       "</table>\n",
       "</div>"
      ],
      "text/plain": [
       "      customer_id                    address  postcode state    country  \\\n",
       "3994         3999            1482 Hauk Trail      3064   VIC  Australia   \n",
       "3995         4000  57042 Village Green Point      4511   QLD  Australia   \n",
       "3996         4001     87 Crescent Oaks Alley      2756   NSW  Australia   \n",
       "3997         4002           8194 Lien Street      4032   QLD  Australia   \n",
       "3998         4003            320 Acker Drive      2251   NSW  Australia   \n",
       "\n",
       "      property_valuation  \n",
       "3994                   3  \n",
       "3995                   6  \n",
       "3996                  10  \n",
       "3997                   7  \n",
       "3998                   7  "
      ]
     },
     "execution_count": 14,
     "metadata": {},
     "output_type": "execute_result"
    }
   ],
   "source": [
    "customer_address.tail()"
   ]
  },
  {
   "cell_type": "code",
   "execution_count": 68,
   "id": "97f888c8-ecc6-4866-849e-cb7ca70ece9e",
   "metadata": {
    "execution": {
     "iopub.execute_input": "2022-10-24T10:08:33.773786Z",
     "iopub.status.busy": "2022-10-24T10:08:33.773185Z",
     "iopub.status.idle": "2022-10-24T10:08:33.780285Z",
     "shell.execute_reply": "2022-10-24T10:08:33.779486Z",
     "shell.execute_reply.started": "2022-10-24T10:08:33.773756Z"
    }
   },
   "outputs": [
    {
     "data": {
      "text/plain": [
       "(3999, 6)"
      ]
     },
     "execution_count": 68,
     "metadata": {},
     "output_type": "execute_result"
    }
   ],
   "source": [
    "customer_address.shape"
   ]
  },
  {
   "cell_type": "code",
   "execution_count": 69,
   "id": "d3c7dad6-ca7f-468a-b718-db78259866c4",
   "metadata": {
    "execution": {
     "iopub.execute_input": "2022-10-24T10:08:38.851199Z",
     "iopub.status.busy": "2022-10-24T10:08:38.850925Z",
     "iopub.status.idle": "2022-10-24T10:08:38.857519Z",
     "shell.execute_reply": "2022-10-24T10:08:38.856741Z",
     "shell.execute_reply.started": "2022-10-24T10:08:38.851173Z"
    }
   },
   "outputs": [
    {
     "data": {
      "text/plain": [
       "customer_id            int64\n",
       "address               object\n",
       "postcode               int64\n",
       "state                 object\n",
       "country               object\n",
       "property_valuation     int64\n",
       "dtype: object"
      ]
     },
     "execution_count": 69,
     "metadata": {},
     "output_type": "execute_result"
    }
   ],
   "source": [
    "customer_address.dtypes"
   ]
  },
  {
   "cell_type": "code",
   "execution_count": 70,
   "id": "81779e39-4ed5-45e4-a01c-fb29f8a8a184",
   "metadata": {
    "execution": {
     "iopub.execute_input": "2022-10-24T10:09:05.512455Z",
     "iopub.status.busy": "2022-10-24T10:09:05.512080Z",
     "iopub.status.idle": "2022-10-24T10:09:05.532427Z",
     "shell.execute_reply": "2022-10-24T10:09:05.531592Z",
     "shell.execute_reply.started": "2022-10-24T10:09:05.512387Z"
    }
   },
   "outputs": [
    {
     "data": {
      "text/html": [
       "<div>\n",
       "<style scoped>\n",
       "    .dataframe tbody tr th:only-of-type {\n",
       "        vertical-align: middle;\n",
       "    }\n",
       "\n",
       "    .dataframe tbody tr th {\n",
       "        vertical-align: top;\n",
       "    }\n",
       "\n",
       "    .dataframe thead th {\n",
       "        text-align: right;\n",
       "    }\n",
       "</style>\n",
       "<table border=\"1\" class=\"dataframe\">\n",
       "  <thead>\n",
       "    <tr style=\"text-align: right;\">\n",
       "      <th></th>\n",
       "      <th>customer_id</th>\n",
       "      <th>postcode</th>\n",
       "      <th>property_valuation</th>\n",
       "    </tr>\n",
       "  </thead>\n",
       "  <tbody>\n",
       "    <tr>\n",
       "      <th>count</th>\n",
       "      <td>3999.000000</td>\n",
       "      <td>3999.000000</td>\n",
       "      <td>3999.000000</td>\n",
       "    </tr>\n",
       "    <tr>\n",
       "      <th>mean</th>\n",
       "      <td>2003.987997</td>\n",
       "      <td>2985.755939</td>\n",
       "      <td>7.514379</td>\n",
       "    </tr>\n",
       "    <tr>\n",
       "      <th>std</th>\n",
       "      <td>1154.576912</td>\n",
       "      <td>844.878364</td>\n",
       "      <td>2.824663</td>\n",
       "    </tr>\n",
       "    <tr>\n",
       "      <th>min</th>\n",
       "      <td>1.000000</td>\n",
       "      <td>2000.000000</td>\n",
       "      <td>1.000000</td>\n",
       "    </tr>\n",
       "    <tr>\n",
       "      <th>25%</th>\n",
       "      <td>1004.500000</td>\n",
       "      <td>2200.000000</td>\n",
       "      <td>6.000000</td>\n",
       "    </tr>\n",
       "    <tr>\n",
       "      <th>50%</th>\n",
       "      <td>2004.000000</td>\n",
       "      <td>2768.000000</td>\n",
       "      <td>8.000000</td>\n",
       "    </tr>\n",
       "    <tr>\n",
       "      <th>75%</th>\n",
       "      <td>3003.500000</td>\n",
       "      <td>3750.000000</td>\n",
       "      <td>10.000000</td>\n",
       "    </tr>\n",
       "    <tr>\n",
       "      <th>max</th>\n",
       "      <td>4003.000000</td>\n",
       "      <td>4883.000000</td>\n",
       "      <td>12.000000</td>\n",
       "    </tr>\n",
       "  </tbody>\n",
       "</table>\n",
       "</div>"
      ],
      "text/plain": [
       "       customer_id     postcode  property_valuation\n",
       "count  3999.000000  3999.000000         3999.000000\n",
       "mean   2003.987997  2985.755939            7.514379\n",
       "std    1154.576912   844.878364            2.824663\n",
       "min       1.000000  2000.000000            1.000000\n",
       "25%    1004.500000  2200.000000            6.000000\n",
       "50%    2004.000000  2768.000000            8.000000\n",
       "75%    3003.500000  3750.000000           10.000000\n",
       "max    4003.000000  4883.000000           12.000000"
      ]
     },
     "execution_count": 70,
     "metadata": {},
     "output_type": "execute_result"
    }
   ],
   "source": [
    "customer_address[[\"customer_id\", \"postcode\", \"property_valuation\"]].describe()"
   ]
  },
  {
   "cell_type": "code",
   "execution_count": 71,
   "id": "7be9d08a-9e65-4584-b6c5-b40b44bd66ac",
   "metadata": {
    "execution": {
     "iopub.execute_input": "2022-10-24T10:09:15.052420Z",
     "iopub.status.busy": "2022-10-24T10:09:15.052119Z",
     "iopub.status.idle": "2022-10-24T10:09:15.062950Z",
     "shell.execute_reply": "2022-10-24T10:09:15.061569Z",
     "shell.execute_reply.started": "2022-10-24T10:09:15.052389Z"
    }
   },
   "outputs": [
    {
     "data": {
      "text/plain": [
       "customer_id           0\n",
       "address               0\n",
       "postcode              0\n",
       "state                 0\n",
       "country               0\n",
       "property_valuation    0\n",
       "dtype: int64"
      ]
     },
     "execution_count": 71,
     "metadata": {},
     "output_type": "execute_result"
    }
   ],
   "source": [
    "customer_address.isna().sum()"
   ]
  },
  {
   "cell_type": "code",
   "execution_count": 72,
   "id": "d50006e9-a2ab-4c2c-924e-81a135b7b20d",
   "metadata": {
    "execution": {
     "iopub.execute_input": "2022-10-24T10:09:29.604646Z",
     "iopub.status.busy": "2022-10-24T10:09:29.604071Z",
     "iopub.status.idle": "2022-10-24T10:09:29.612985Z",
     "shell.execute_reply": "2022-10-24T10:09:29.611872Z",
     "shell.execute_reply.started": "2022-10-24T10:09:29.604616Z"
    }
   },
   "outputs": [
    {
     "data": {
      "text/plain": [
       "NSW                2054\n",
       "VIC                 939\n",
       "QLD                 838\n",
       "New South Wales      86\n",
       "Victoria             82\n",
       "Name: state, dtype: int64"
      ]
     },
     "execution_count": 72,
     "metadata": {},
     "output_type": "execute_result"
    }
   ],
   "source": [
    "customer_address.state.value_counts()"
   ]
  },
  {
   "cell_type": "code",
   "execution_count": 74,
   "id": "21b726cf-9837-4431-a588-551f23d38c92",
   "metadata": {
    "execution": {
     "iopub.execute_input": "2022-10-24T10:10:22.985296Z",
     "iopub.status.busy": "2022-10-24T10:10:22.985024Z",
     "iopub.status.idle": "2022-10-24T10:10:22.993968Z",
     "shell.execute_reply": "2022-10-24T10:10:22.992899Z",
     "shell.execute_reply.started": "2022-10-24T10:10:22.985271Z"
    }
   },
   "outputs": [
    {
     "data": {
      "text/plain": [
       "Australia    3999\n",
       "Name: country, dtype: int64"
      ]
     },
     "execution_count": 74,
     "metadata": {},
     "output_type": "execute_result"
    }
   ],
   "source": [
    "customer_address.country.value_counts()"
   ]
  },
  {
   "cell_type": "code",
   "execution_count": null,
   "id": "77d4fa8a-0bbc-4c02-8b71-ccf2ba3bb1b3",
   "metadata": {},
   "outputs": [],
   "source": []
  }
 ],
 "metadata": {
  "kernelspec": {
   "display_name": "kpmg-data-analytics",
   "language": "python",
   "name": "kpmg-data-analytics"
  },
  "language_info": {
   "codemirror_mode": {
    "name": "ipython",
    "version": 3
   },
   "file_extension": ".py",
   "mimetype": "text/x-python",
   "name": "python",
   "nbconvert_exporter": "python",
   "pygments_lexer": "ipython3",
   "version": "3.9.13"
  },
  "widgets": {
   "application/vnd.jupyter.widget-state+json": {
    "state": {},
    "version_major": 2,
    "version_minor": 0
   }
  }
 },
 "nbformat": 4,
 "nbformat_minor": 5
}
